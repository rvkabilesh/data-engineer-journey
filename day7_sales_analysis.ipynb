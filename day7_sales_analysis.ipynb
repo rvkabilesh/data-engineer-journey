{
  "nbformat": 4,
  "nbformat_minor": 0,
  "metadata": {
    "colab": {
      "provenance": [],
      "authorship_tag": "ABX9TyMdALShgCj7BQv6d35hdq63",
      "include_colab_link": true
    },
    "kernelspec": {
      "name": "python3",
      "display_name": "Python 3"
    },
    "language_info": {
      "name": "python"
    }
  },
  "cells": [
    {
      "cell_type": "markdown",
      "metadata": {
        "id": "view-in-github",
        "colab_type": "text"
      },
      "source": [
        "<a href=\"https://colab.research.google.com/github/rvkabilesh/data-engineer-journey/blob/main/day7_sales_analysis.ipynb\" target=\"_parent\"><img src=\"https://colab.research.google.com/assets/colab-badge.svg\" alt=\"Open In Colab\"/></a>"
      ]
    },
    {
      "cell_type": "code",
      "execution_count": 110,
      "metadata": {
        "colab": {
          "base_uri": "https://localhost:8080/"
        },
        "id": "zZShStu7v_nf",
        "outputId": "a74eef1f-b927-4ef0-b0ba-6a8fb0473764"
      },
      "outputs": [
        {
          "output_type": "stream",
          "name": "stdout",
          "text": [
            "Total Revenue: ₹140000\n",
            "\n",
            "rev on Laptop: ₹120000\n",
            "rev on Mouse: ₹3500\n",
            "rev on Keyboard: ₹4500\n",
            "rev on Monitor: ₹12000\n",
            "\n",
            "total qty sold on Laptop: 2\n",
            "total qty sold on Mouse: 7\n",
            "total qty sold on Keyboard: 3\n",
            "total qty sold on Monitor: 1\n"
          ]
        }
      ],
      "source": [
        "import csv\n",
        "\n",
        "sales_data = []\n",
        "\n",
        "f = open('sales.csv','r')\n",
        "reader = csv.reader(f)\n",
        "next(reader)\n",
        "\n",
        "for row in reader:\n",
        "  date,product,qty,prize = row\n",
        "  sales_data.append({\n",
        "       'date':date,\n",
        "       'product':product,\n",
        "       'qty':int(qty),\n",
        "       'prize':int(prize)\n",
        "       })\n",
        "\n",
        "total_revenue = 0\n",
        "rev_per_product = {}\n",
        "count_total_qty = {}\n",
        "\n",
        "for sale in sales_data:\n",
        "    total_revenue += sale['qty'] * sale['prize']\n",
        "    if sale['product'] in rev_per_product:\n",
        "      rev_per_product[sale['product']] += sale['qty'] * sale['prize']\n",
        "      count_total_qty[sale['product']] += sale['qty']\n",
        "    else:\n",
        "      rev_per_product.update({sale['product']:sale['qty'] * sale['prize']})\n",
        "      count_total_qty.update({sale['product']:sale['qty']})\n",
        "\n",
        "f=open('sales_report.csv','w')\n",
        "f.write(\"x,y\\n\")\n",
        "print(f\"Total Revenue: ₹{total_revenue}\\n\")\n",
        "f.write(f\"Total Revenue:, ₹{total_revenue}\\n\")\n",
        "\n",
        "for product,revenue in rev_per_product.items():\n",
        "  print(f\"rev on {product}: ₹{revenue}\")\n",
        "  f.write(f\"rev on {product}:, ₹{revenue}\\n\")\n",
        "print()\n",
        "for product,qty in count_total_qty.items():\n",
        "  print(f\"total qty sold on {product}: {qty}\")\n",
        "  f.write(f\"total qty sold on {product}:, {qty}\\n\")\n",
        "\n",
        "f.close()"
      ]
    },
    {
      "cell_type": "code",
      "source": [],
      "metadata": {
        "id": "NuEg0yP55EqM"
      },
      "execution_count": 104,
      "outputs": []
    }
  ]
}