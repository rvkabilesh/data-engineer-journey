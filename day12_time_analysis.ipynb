{
  "nbformat": 4,
  "nbformat_minor": 0,
  "metadata": {
    "colab": {
      "provenance": [],
      "authorship_tag": "ABX9TyPQWwW7Fj9yDvVlX8AdaBgr",
      "include_colab_link": true
    },
    "kernelspec": {
      "name": "python3",
      "display_name": "Python 3"
    },
    "language_info": {
      "name": "python"
    }
  },
  "cells": [
    {
      "cell_type": "markdown",
      "metadata": {
        "id": "view-in-github",
        "colab_type": "text"
      },
      "source": [
        "<a href=\"https://colab.research.google.com/github/rvkabilesh/data-engineer-journey/blob/main/day12_time_analysis.ipynb\" target=\"_parent\"><img src=\"https://colab.research.google.com/assets/colab-badge.svg\" alt=\"Open In Colab\"/></a>"
      ]
    },
    {
      "cell_type": "code",
      "execution_count": 50,
      "metadata": {
        "colab": {
          "base_uri": "https://localhost:8080/"
        },
        "id": "JOzgKhtJwpSx",
        "outputId": "4eb8007b-7399-4b51-f414-73a4a4a9baec"
      },
      "outputs": [
        {
          "output_type": "stream",
          "name": "stdout",
          "text": [
            "   Year  Month     Category  Revenue  Quantity\n",
            "0  2024      6  Electronics   182500         8\n",
            "1  2024      6    Furniture     2000         1\n",
            "2  2024      7   Stationery       40         2\n"
          ]
        }
      ],
      "source": [
        "import pandas as pd\n",
        "\n",
        "df = pd.read_csv('/content/sales_cleaned_day12.csv')\n",
        "df['Date'] = pd.to_datetime(df['Date'] , errors= 'coerce')\n",
        "\n",
        "df['Month'] = df['Date'].dt.month\n",
        "df['Year'] = df['Date'].dt.year\n",
        "\n",
        "monthly_summary = df.groupby(['Year','Month','Category']).agg({\n",
        "    'Revenue':'sum', 'Quantity':'sum'\n",
        "    }).reset_index()\n",
        "\n",
        "print(monthly_summary)"
      ]
    },
    {
      "cell_type": "code",
      "source": [
        "june_sales = df[(df['Month'] == 6) & (df['Year'] == 2024)]\n",
        "print(june_sales)"
      ],
      "metadata": {
        "colab": {
          "base_uri": "https://localhost:8080/"
        },
        "id": "U4596tam3c4f",
        "outputId": "dbcf8a38-ff81-484e-feb3-9f76cdb39c28"
      },
      "execution_count": 51,
      "outputs": [
        {
          "output_type": "stream",
          "name": "stdout",
          "text": [
            "        Date  ProductID  Quantity  Price Product     Category       City  \\\n",
            "0 2024-06-01        101         2  60000  Laptop  Electronics    Chennai   \n",
            "1 2024-06-01        102         5    500   Mouse  Electronics    Chennai   \n",
            "2 2024-06-02        103         1   2000   Chair    Furniture  Bengaluru   \n",
            "3 2024-06-03        101         1  60000  Laptop  Electronics    Chennai   \n",
            "\n",
            "  Customer  Revenue  Month  Year  \n",
            "0    Alice   120000      6  2024  \n",
            "1      Bob     2500      6  2024  \n",
            "2  Charlie     2000      6  2024  \n",
            "3    Alice    60000      6  2024  \n"
          ]
        }
      ]
    },
    {
      "cell_type": "code",
      "source": [
        "pivot = df.pivot_table(\n",
        "    index='Month',\n",
        "    columns='Category',\n",
        "    values='Revenue',\n",
        "    aggfunc='sum'\n",
        ").fillna(0)\n",
        "\n",
        "print(pivot)"
      ],
      "metadata": {
        "colab": {
          "base_uri": "https://localhost:8080/"
        },
        "id": "Pnd_Z4iy2y40",
        "outputId": "34cf6c61-6674-4719-fb70-9a78c68d40e9"
      },
      "execution_count": 46,
      "outputs": [
        {
          "output_type": "stream",
          "name": "stdout",
          "text": [
            "Category  Electronics  Furniture  Stationery\n",
            "Month                                       \n",
            "6            182500.0     2000.0         0.0\n",
            "7                 0.0        0.0        40.0\n"
          ]
        }
      ]
    },
    {
      "cell_type": "code",
      "source": [
        "monthly_summary.to_csv('monthly_category_summary_day12.csv', index=False)\n",
        "pivot.to_csv('pivot_table_revenue_day12.csv')\n"
      ],
      "metadata": {
        "id": "1b4WxLmm3LV8"
      },
      "execution_count": 47,
      "outputs": []
    }
  ]
}