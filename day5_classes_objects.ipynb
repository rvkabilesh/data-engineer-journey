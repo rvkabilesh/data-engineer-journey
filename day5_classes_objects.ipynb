{
  "nbformat": 4,
  "nbformat_minor": 0,
  "metadata": {
    "colab": {
      "provenance": [],
      "authorship_tag": "ABX9TyPOsBVl5ubikWm3Qa9jbTZP",
      "include_colab_link": true
    },
    "kernelspec": {
      "name": "python3",
      "display_name": "Python 3"
    },
    "language_info": {
      "name": "python"
    }
  },
  "cells": [
    {
      "cell_type": "markdown",
      "metadata": {
        "id": "view-in-github",
        "colab_type": "text"
      },
      "source": [
        "<a href=\"https://colab.research.google.com/github/rvkabilesh/data-engineer-journey/blob/main/day5_classes_objects.ipynb\" target=\"_parent\"><img src=\"https://colab.research.google.com/assets/colab-badge.svg\" alt=\"Open In Colab\"/></a>"
      ]
    },
    {
      "cell_type": "markdown",
      "source": [
        "Create a class Person with:\n",
        "\n",
        "Attributes: name, age, goal\n",
        "\n",
        "Method: introduce() that prints a sentence with those attributes\n",
        "\n",
        "Create a class Book:\n",
        "\n",
        "Attributes: title, author, pages\n",
        "\n",
        "Method: summary() that returns a formatted string\n",
        "\n",
        "Bonus: Create a class Student that stores test scores in a list, and has a method average() to return the average score.\n",
        "\n"
      ],
      "metadata": {
        "id": "PMmAqqP_roiW"
      }
    },
    {
      "cell_type": "code",
      "execution_count": 29,
      "metadata": {
        "colab": {
          "base_uri": "https://localhost:8080/"
        },
        "id": "AuLSiu9TrkBk",
        "outputId": "7ee4c568-9964-4633-84e5-87724c5f8b9c"
      },
      "outputs": [
        {
          "output_type": "stream",
          "name": "stdout",
          "text": [
            "The name is: Mark and\n",
            "Im 29\n",
            "My goal is to be a Data Engineer\n",
            "\n",
            "The title is: harry poter\n",
            "The author is: J.K. Rowling\n",
            "The number of pages is: 500\n",
            "\n",
            "average mark: 86.75\n"
          ]
        }
      ],
      "source": [
        "class person:\n",
        "  def __init__(self, name, age, goal):\n",
        "    self.name = name\n",
        "    self.age = age\n",
        "    self.goal = goal\n",
        "\n",
        "  def introduce(self):\n",
        "    print(f'The name is: {self.name} and\\nIm {self.age}\\nMy goal is to be a {self.goal}')\n",
        "\n",
        "class book:\n",
        "  def __init__(self, title, author, pages):\n",
        "    self.title = title\n",
        "    self.author = author\n",
        "    self.pages = pages\n",
        "\n",
        "  def summary(self):\n",
        "    return f'The title is: {self.title}\\nThe author is: {self.author}\\nThe number of pages is: {self.pages}'\n",
        "\n",
        "class student:\n",
        "  def __init__(self, name, dept, scores):\n",
        "    self.name = name\n",
        "    self.dept = dept\n",
        "    self.scores = scores\n",
        "\n",
        "  def average(self):\n",
        "    return f'average mark: {sum(self.scores)/len(self.scores)}'\n",
        "\n",
        "p1 = person('Mark',29,'Data Engineer')\n",
        "p1.introduce()\n",
        "\n",
        "print()\n",
        "\n",
        "b1 = book('harry poter','J.K. Rowling', 500)\n",
        "print(b1.summary())\n",
        "\n",
        "print()\n",
        "\n",
        "s1 = student('james','CSE',[80,90,89,88])\n",
        "print(s1.average())"
      ]
    }
  ]
}