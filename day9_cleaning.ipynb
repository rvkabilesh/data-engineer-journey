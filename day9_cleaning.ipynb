{
  "nbformat": 4,
  "nbformat_minor": 0,
  "metadata": {
    "colab": {
      "provenance": [],
      "authorship_tag": "ABX9TyMqAuPZNkynI8QCVvPDjPB8",
      "include_colab_link": true
    },
    "kernelspec": {
      "name": "python3",
      "display_name": "Python 3"
    },
    "language_info": {
      "name": "python"
    }
  },
  "cells": [
    {
      "cell_type": "markdown",
      "metadata": {
        "id": "view-in-github",
        "colab_type": "text"
      },
      "source": [
        "<a href=\"https://colab.research.google.com/github/rvkabilesh/data-engineer-journey/blob/main/day9_cleaning.ipynb\" target=\"_parent\"><img src=\"https://colab.research.google.com/assets/colab-badge.svg\" alt=\"Open In Colab\"/></a>"
      ]
    },
    {
      "cell_type": "code",
      "source": [
        "import pandas as pd\n",
        "\n",
        "df = pd.read_csv('/content/dirty_sales.csv')\n",
        "\n",
        "df.columns = df.columns.str.strip().str.lower().str.replace(' ', '_')\n",
        "\n",
        "df['date'] = pd.to_datetime(df['date'], errors = 'coerce')\n",
        "\n",
        "df['product'] = df['product'].str.title().str.strip()\n",
        "\n",
        "df['quantity'] = pd.to_numeric(df['quantity'].astype(str).str.strip(), errors = 'coerce').fillna(0).astype(int)\n",
        "\n",
        "df['price'] = pd.to_numeric(df['price'].str.replace('₹','').str.strip()).astype(float)\n",
        "\n",
        "df = df[df['product'].str.len() > 0]\n",
        "\n",
        "df['revenue'] = df['quantity'] * df['price']\n",
        "\n",
        "df = df.drop_duplicates()\n",
        "\n",
        "df.to_csv('clean_sales.csv',index = False)\n",
        "\n",
        "print(df)"
      ],
      "metadata": {
        "id": "EtQdodDtO04b",
        "colab": {
          "base_uri": "https://localhost:8080/"
        },
        "outputId": "09e91ca2-675b-4d26-d1c3-a9aba6361e77"
      },
      "execution_count": 43,
      "outputs": [
        {
          "output_type": "stream",
          "name": "stdout",
          "text": [
            "        date   product  quantity    price   revenue\n",
            "0 2024-06-01    Laptop         2  60000.0  120000.0\n",
            "1 2024-06-01     Mouse         5    500.0    2500.0\n",
            "2 2024-06-02  Keyboard         0    800.0       0.0\n",
            "3 2024-06-03     Mouse         3    500.0    1500.0\n",
            "6 2024-06-05    Laptop         1  60000.0   60000.0\n",
            "8 2024-06-06  Keyboard         2    800.0    1600.0\n",
            "9 2024-06-06    Laptop         0  60000.0       0.0\n"
          ]
        }
      ]
    }
  ]
}