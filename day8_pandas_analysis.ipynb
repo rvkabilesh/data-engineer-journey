{
  "nbformat": 4,
  "nbformat_minor": 0,
  "metadata": {
    "colab": {
      "provenance": [],
      "authorship_tag": "ABX9TyNmg1M6n6BByTf3DVmkeOO6",
      "include_colab_link": true
    },
    "kernelspec": {
      "name": "python3",
      "display_name": "Python 3"
    },
    "language_info": {
      "name": "python"
    }
  },
  "cells": [
    {
      "cell_type": "markdown",
      "metadata": {
        "id": "view-in-github",
        "colab_type": "text"
      },
      "source": [
        "<a href=\"https://colab.research.google.com/github/rvkabilesh/data-engineer-journey/blob/main/day8_pandas_analysis.ipynb\" target=\"_parent\"><img src=\"https://colab.research.google.com/assets/colab-badge.svg\" alt=\"Open In Colab\"/></a>"
      ]
    },
    {
      "cell_type": "code",
      "execution_count": 163,
      "metadata": {
        "colab": {
          "base_uri": "https://localhost:8080/"
        },
        "id": "T3YOMavMc6av",
        "outputId": "0c1b5272-0678-43a5-d9c8-70d99f852612"
      },
      "outputs": [
        {
          "output_type": "stream",
          "name": "stdout",
          "text": [
            "         Date   Product  Quantity  Price     rev\n",
            "0  2024-06-01    Laptop         2  60000  120000\n",
            "1  2024-06-01     Mouse         5    500    2500\n",
            "2  2024-06-02  Keyboard         3   1500    4500\n",
            "3  2024-06-02   Monitor         1  12000   12000\n",
            "4  2024-06-03     Mouse         2    500    1000\n",
            "Total Revenue: 140000\n",
            "\n",
            "summary: \n",
            "    Product     rev  Quantity\n",
            "0  Keyboard    4500         3\n",
            "1    Laptop  120000         2\n",
            "2   Monitor   12000         1\n",
            "3     Mouse    3500         7\n",
            "\n",
            "date specific sales:\n",
            "          Date     rev\n",
            "0  2024-06-01  122500\n",
            "1  2024-06-02   16500\n",
            "2  2024-06-03    1000\n",
            "\n",
            "Top-selling product by revenue:\n",
            "Product     Laptop\n",
            "rev         120000\n",
            "Quantity         2\n",
            "Name: 1, dtype: object\n",
            "\n",
            "sorted by rev:\n",
            "     Product     rev  Quantity\n",
            "1    Laptop  120000         2\n",
            "2   Monitor   12000         1\n",
            "0  Keyboard    4500         3\n",
            "3     Mouse    3500         7\n"
          ]
        }
      ],
      "source": [
        "import pandas as pd\n",
        "\n",
        "df = pd.read_csv('sales.csv')\n",
        "#print(df)\n",
        "\n",
        "#new column\n",
        "df['rev'] = df['Quantity'] * df['Price']\n",
        "print(df)\n",
        "\n",
        "total_rev = df['rev'].sum()\n",
        "print(f'Total Revenue: {total_rev}\\n')\n",
        "\n",
        "summary = df.groupby('Product').agg({\n",
        "    'rev': 'sum',\n",
        "    'Quantity': 'sum'\n",
        "}).reset_index()\n",
        "\n",
        "print(f'''summary:\n",
        "{summary}\\n''')\n",
        "\n",
        "summary.to_csv('pandas_sales_report.csv', index=False)\n",
        "\n",
        "specific_date_sales = df.groupby('Date').agg({'rev':'sum'}).reset_index()\n",
        "print(f'date specific sales:\\n {specific_date_sales}\\n')\n",
        "\n",
        "top_product = summary.sort_values('rev', ascending=False).iloc[0]\n",
        "print(f\"Top-selling product by revenue:\\n{top_product}\\n\")\n",
        "\n",
        "print('sorted by rev:\\n',summary.sort_values('rev', ascending=False))"
      ]
    },
    {
      "cell_type": "code",
      "source": [],
      "metadata": {
        "id": "9oJX0pOL7Z9I"
      },
      "execution_count": null,
      "outputs": []
    }
  ]
}