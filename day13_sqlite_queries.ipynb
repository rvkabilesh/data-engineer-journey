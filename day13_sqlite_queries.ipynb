{
  "nbformat": 4,
  "nbformat_minor": 0,
  "metadata": {
    "colab": {
      "provenance": [],
      "authorship_tag": "ABX9TyP0/VLZ6VV3CV0TuMs622EI",
      "include_colab_link": true
    },
    "kernelspec": {
      "name": "python3",
      "display_name": "Python 3"
    },
    "language_info": {
      "name": "python"
    }
  },
  "cells": [
    {
      "cell_type": "markdown",
      "metadata": {
        "id": "view-in-github",
        "colab_type": "text"
      },
      "source": [
        "<a href=\"https://colab.research.google.com/github/rvkabilesh/data-engineer-journey/blob/main/day13_sqlite_queries.ipynb\" target=\"_parent\"><img src=\"https://colab.research.google.com/assets/colab-badge.svg\" alt=\"Open In Colab\"/></a>"
      ]
    },
    {
      "cell_type": "code",
      "execution_count": 17,
      "metadata": {
        "colab": {
          "base_uri": "https://localhost:8080/"
        },
        "id": "2caAGoL_5x_k",
        "outputId": "2ea0ea49-6f0e-4af7-863d-f62b64eab46e"
      },
      "outputs": [
        {
          "output_type": "stream",
          "name": "stdout",
          "text": [
            "Total revenue(Rs): 184540\n"
          ]
        }
      ],
      "source": [
        "import pandas as pd\n",
        "import sqlite3\n",
        "\n",
        "df = pd.read_csv('/content/sales_cleaned_day12.csv')\n",
        "conn = sqlite3.connect('sales_day13.db')\n",
        "df.to_sql('sales', conn, if_exists='replace', index=False)\n",
        "\n",
        "cursor = conn.cursor()\n",
        "query1 = 'select sum(Revenue) from sales'\n",
        "cursor.execute(query1)\n",
        "print('Total revenue(Rs):',cursor.fetchone()[0])"
      ]
    },
    {
      "cell_type": "code",
      "source": [
        "query2 = 'select Product, sum(Revenue) TotalRevenue from sales group by Product order by TotalRevenue desc'\n",
        "df_prod = pd.read_sql_query(query2, conn)\n",
        "print(\"Revenue by Product:\\n\", df_prod)"
      ],
      "metadata": {
        "colab": {
          "base_uri": "https://localhost:8080/"
        },
        "id": "jpLzi9x2HB8A",
        "outputId": "baf7fe78-02c0-4d62-ce1d-87dccb419374"
      },
      "execution_count": 18,
      "outputs": [
        {
          "output_type": "stream",
          "name": "stdout",
          "text": [
            "Revenue by Product:\n",
            "   Product  TotalRevenue\n",
            "0  Laptop        180000\n",
            "1   Mouse          2500\n",
            "2   Chair          2000\n",
            "3     Pen            40\n"
          ]
        }
      ]
    },
    {
      "cell_type": "code",
      "source": [
        "query3 = \"\"\"\n",
        "SELECT Category, City, SUM(Revenue) as Revenue\n",
        "FROM sales\n",
        "WHERE Category = 'Electronics'\n",
        "GROUP BY City\n",
        "ORDER BY Revenue DESC\n",
        "\"\"\"\n",
        "df_city = pd.read_sql_query(query3, conn)\n",
        "print(\"Electronics Revenue by City:\\n\", df_city)\n"
      ],
      "metadata": {
        "colab": {
          "base_uri": "https://localhost:8080/"
        },
        "id": "i5guaRWOJCOm",
        "outputId": "d78910b0-c0eb-48d1-9686-30efc75d8fdd"
      },
      "execution_count": 19,
      "outputs": [
        {
          "output_type": "stream",
          "name": "stdout",
          "text": [
            "Electronics Revenue by City:\n",
            "       Category     City  Revenue\n",
            "0  Electronics  Chennai   182500\n"
          ]
        }
      ]
    },
    {
      "cell_type": "code",
      "source": [
        "df_prod.to_csv(\"sql_product_revenue_day13.csv\", index=False)\n",
        "df_city.to_csv(\"sql_city_revenue_day13.csv\", index=False)"
      ],
      "metadata": {
        "id": "PUdwRU5YJl0X"
      },
      "execution_count": 20,
      "outputs": []
    }
  ]
}