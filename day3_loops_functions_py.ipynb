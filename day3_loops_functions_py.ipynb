{
  "nbformat": 4,
  "nbformat_minor": 0,
  "metadata": {
    "colab": {
      "provenance": [],
      "authorship_tag": "ABX9TyNN6UJFvyV71MSwYRO8l5ND",
      "include_colab_link": true
    },
    "kernelspec": {
      "name": "python3",
      "display_name": "Python 3"
    },
    "language_info": {
      "name": "python"
    }
  },
  "cells": [
    {
      "cell_type": "markdown",
      "metadata": {
        "id": "view-in-github",
        "colab_type": "text"
      },
      "source": [
        "<a href=\"https://colab.research.google.com/github/rvkabilesh/data-engineer-journey/blob/main/day3_loops_functions_py.ipynb\" target=\"_parent\"><img src=\"https://colab.research.google.com/assets/colab-badge.svg\" alt=\"Open In Colab\"/></a>"
      ]
    },
    {
      "cell_type": "markdown",
      "source": [],
      "metadata": {
        "id": "mbODmSrx1TMF"
      }
    },
    {
      "cell_type": "markdown",
      "source": [
        "Write a function that takes a list of numbers and returns the sum.\n",
        "\n",
        "Write a function is_even(n) that returns True if the number is even.\n",
        "\n",
        "Use a for loop to print every letter in your name.\n",
        "\n",
        "Use a while loop to count down from 5 to 1 and print \"Lift off!\"\n",
        "\n",
        "Bonus: Write a function to find the max value in a list (don’t use max())\n"
      ],
      "metadata": {
        "id": "OCgDlw0j1TZT"
      }
    },
    {
      "cell_type": "code",
      "source": [
        "def sum(lst):\n",
        "  sum = 0\n",
        "  for i in lst:\n",
        "    sum += i\n",
        "  return sum\n",
        "\n",
        "lst1 = [1,2,3,4,5]\n",
        "sum(lst1)"
      ],
      "metadata": {
        "colab": {
          "base_uri": "https://localhost:8080/"
        },
        "id": "WO58f9Yf1huq",
        "outputId": "6dd295ff-c6f9-44eb-9b40-614551293fa4"
      },
      "execution_count": null,
      "outputs": [
        {
          "output_type": "execute_result",
          "data": {
            "text/plain": [
              "15"
            ]
          },
          "metadata": {},
          "execution_count": 3
        }
      ]
    },
    {
      "cell_type": "code",
      "source": [
        "def is_even(n):\n",
        "  if n % 2 == 0:\n",
        "    return True\n",
        "  else:\n",
        "    return False\n",
        "\n",
        "is_even(4)"
      ],
      "metadata": {
        "colab": {
          "base_uri": "https://localhost:8080/"
        },
        "id": "0KKoalIG3WqR",
        "outputId": "fb290b2c-022f-437d-fb74-356afbe3134c"
      },
      "execution_count": null,
      "outputs": [
        {
          "output_type": "execute_result",
          "data": {
            "text/plain": [
              "True"
            ]
          },
          "metadata": {},
          "execution_count": 5
        }
      ]
    },
    {
      "cell_type": "code",
      "source": [
        "for i in 'james':\n",
        "  print(i)"
      ],
      "metadata": {
        "colab": {
          "base_uri": "https://localhost:8080/"
        },
        "id": "xbidz4yuOTL2",
        "outputId": "0be4a76e-2e3b-4cba-de00-eceb2fdd8fe7"
      },
      "execution_count": 11,
      "outputs": [
        {
          "output_type": "stream",
          "name": "stdout",
          "text": [
            "j\n",
            "a\n",
            "m\n",
            "e\n",
            "s\n"
          ]
        }
      ]
    },
    {
      "cell_type": "code",
      "source": [
        "num = 6\n",
        "while num > 1:\n",
        "  num -= 1\n",
        "  print(num)\n",
        "print(\"Lift off!\")"
      ],
      "metadata": {
        "colab": {
          "base_uri": "https://localhost:8080/"
        },
        "id": "ConM9ip-3mvA",
        "outputId": "2df57fdd-0c96-42ab-cef9-02df9eab948b"
      },
      "execution_count": null,
      "outputs": [
        {
          "output_type": "stream",
          "name": "stdout",
          "text": [
            "5\n",
            "4\n",
            "3\n",
            "2\n",
            "1\n",
            "Lift off!\n"
          ]
        }
      ]
    },
    {
      "cell_type": "code",
      "source": [
        "def max(lst1):\n",
        "  max=0\n",
        "  for i in lst1:\n",
        "    if i > max:\n",
        "      max = i\n",
        "  return max\n",
        "\n",
        "lst1 = [1,2,3,4,5]\n",
        "max(lst1)"
      ],
      "metadata": {
        "colab": {
          "base_uri": "https://localhost:8080/"
        },
        "id": "SSaiy4dG4I0J",
        "outputId": "58647326-b87a-4e8d-d952-57177cdf9e1d"
      },
      "execution_count": 14,
      "outputs": [
        {
          "output_type": "execute_result",
          "data": {
            "text/plain": [
              "5"
            ]
          },
          "metadata": {},
          "execution_count": 14
        }
      ]
    }
  ]
}