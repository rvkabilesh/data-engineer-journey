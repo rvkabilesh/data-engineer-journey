{
  "nbformat": 4,
  "nbformat_minor": 0,
  "metadata": {
    "colab": {
      "provenance": [],
      "authorship_tag": "ABX9TyPQ92rZnZjshzvfnkaa2M5l",
      "include_colab_link": true
    },
    "kernelspec": {
      "name": "python3",
      "display_name": "Python 3"
    },
    "language_info": {
      "name": "python"
    }
  },
  "cells": [
    {
      "cell_type": "markdown",
      "metadata": {
        "id": "view-in-github",
        "colab_type": "text"
      },
      "source": [
        "<a href=\"https://colab.research.google.com/github/rvkabilesh/data-engineer-journey/blob/main/day14_api_currency.ipynb\" target=\"_parent\"><img src=\"https://colab.research.google.com/assets/colab-badge.svg\" alt=\"Open In Colab\"/></a>"
      ]
    },
    {
      "cell_type": "code",
      "execution_count": 2,
      "metadata": {
        "colab": {
          "base_uri": "https://localhost:8080/"
        },
        "id": "EC8gIX_rML3K",
        "outputId": "1a780702-f5b6-453e-abff-9751c739cc4b"
      },
      "outputs": [
        {
          "output_type": "stream",
          "name": "stdout",
          "text": [
            "<Response [200]>\n"
          ]
        }
      ],
      "source": [
        "import pandas as pd\n",
        "import requests\n",
        "\n",
        "url = 'https://api.exchangerate-api.com/v4/latest/USD'\n",
        "response = requests.get(url)\n",
        "print(response)"
      ]
    },
    {
      "cell_type": "code",
      "source": [
        "data = response.json()\n",
        "print(data)"
      ],
      "metadata": {
        "colab": {
          "base_uri": "https://localhost:8080/"
        },
        "id": "3uJ4OTdgOI_w",
        "outputId": "9e0b9110-5be7-49f8-aacd-5a880888ea4c"
      },
      "execution_count": 10,
      "outputs": [
        {
          "output_type": "stream",
          "name": "stdout",
          "text": [
            "{'provider': 'https://www.exchangerate-api.com', 'WARNING_UPGRADE_TO_V6': 'https://www.exchangerate-api.com/docs/free', 'terms': 'https://www.exchangerate-api.com/terms', 'base': 'USD', 'date': '2025-06-25', 'time_last_updated': 1750809601, 'rates': {'USD': 1, 'AED': 3.67, 'AFN': 70.94, 'ALL': 84.53, 'AMD': 385.84, 'ANG': 1.79, 'AOA': 920.75, 'ARS': 1176, 'AUD': 1.54, 'AWG': 1.79, 'AZN': 1.7, 'BAM': 1.68, 'BBD': 2, 'BDT': 122.23, 'BGN': 1.68, 'BHD': 0.376, 'BIF': 2968.62, 'BMD': 1, 'BND': 1.28, 'BOB': 6.92, 'BRL': 5.5, 'BSD': 1, 'BTN': 85.99, 'BWP': 13.39, 'BYN': 3.14, 'BZD': 2, 'CAD': 1.37, 'CDF': 2885.7, 'CHF': 0.807, 'CLP': 948.46, 'CNY': 7.17, 'COP': 4082.09, 'CRC': 505.46, 'CUP': 24, 'CVE': 94.97, 'CZK': 21.36, 'DJF': 177.72, 'DKK': 6.43, 'DOP': 59.31, 'DZD': 129.93, 'EGP': 50.04, 'ERN': 15, 'ETB': 136.06, 'EUR': 0.861, 'FJD': 2.25, 'FKP': 0.735, 'FOK': 6.43, 'GBP': 0.735, 'GEL': 2.72, 'GGP': 0.735, 'GHS': 10.56, 'GIP': 0.735, 'GMD': 72.72, 'GNF': 8694.44, 'GTQ': 7.69, 'GYD': 209.28, 'HKD': 7.85, 'HNL': 26.11, 'HRK': 6.49, 'HTG': 131.1, 'HUF': 345.91, 'IDR': 16326.42, 'ILS': 3.4, 'IMP': 0.735, 'INR': 86, 'IQD': 1312.22, 'IRR': 42462.19, 'ISK': 122.67, 'JEP': 0.735, 'JMD': 159.86, 'JOD': 0.709, 'JPY': 144.88, 'KES': 129.24, 'KGS': 87.39, 'KHR': 4022.85, 'KID': 1.54, 'KMF': 423.73, 'KRW': 1358.23, 'KWD': 0.306, 'KYD': 0.833, 'KZT': 518.55, 'LAK': 21663.12, 'LBP': 89500, 'LKR': 300.27, 'LRD': 199.88, 'LSL': 17.74, 'LYD': 5.45, 'MAD': 9.1, 'MDL': 17.13, 'MGA': 4431.53, 'MKD': 53.61, 'MMK': 2096.78, 'MNT': 3579.54, 'MOP': 8.09, 'MRU': 39.71, 'MUR': 45.53, 'MVR': 15.44, 'MWK': 1744.94, 'MXN': 19.01, 'MYR': 4.25, 'MZN': 63.62, 'NAD': 17.74, 'NGN': 1547.28, 'NIO': 36.79, 'NOK': 10.11, 'NPR': 137.59, 'NZD': 1.66, 'OMR': 0.384, 'PAB': 1, 'PEN': 3.58, 'PGK': 4.14, 'PHP': 57.07, 'PKR': 283.95, 'PLN': 3.67, 'PYG': 8000, 'QAR': 3.64, 'RON': 4.35, 'RSD': 100.99, 'RUB': 78.42, 'RWF': 1445.68, 'SAR': 3.75, 'SBD': 8.55, 'SCR': 14.55, 'SDG': 449.2, 'SEK': 9.53, 'SGD': 1.28, 'SHP': 0.735, 'SLE': 22.47, 'SLL': 22466.28, 'SOS': 571.5, 'SRD': 38.91, 'SSP': 4712.8, 'STN': 21.1, 'SYP': 12904.62, 'SZL': 17.74, 'THB': 32.67, 'TJS': 9.88, 'TMT': 3.5, 'TND': 2.91, 'TOP': 2.38, 'TRY': 39.63, 'TTD': 6.79, 'TVD': 1.54, 'TWD': 29.38, 'TZS': 2660.98, 'UAH': 41.8, 'UGX': 3586.04, 'UYU': 40.45, 'UZS': 12393.99, 'VES': 105.45, 'VND': 26097.82, 'VUV': 119.49, 'WST': 2.74, 'XAF': 564.97, 'XCD': 2.7, 'XCG': 1.79, 'XDR': 0.731, 'XOF': 564.97, 'XPF': 102.78, 'YER': 242.49, 'ZAR': 17.74, 'ZMW': 23.34, 'ZWL': 26.95}}\n"
          ]
        }
      ]
    },
    {
      "cell_type": "code",
      "source": [
        "rates = data['rates']\n",
        "df_rates = pd.DataFrame(rates.items(), columns=['Currency','Rate'])\n",
        "print(df_rates)"
      ],
      "metadata": {
        "colab": {
          "base_uri": "https://localhost:8080/"
        },
        "id": "eTFasyUtPe4V",
        "outputId": "567271d4-1de4-45aa-bf4e-9b9e6d5b4a46"
      },
      "execution_count": 16,
      "outputs": [
        {
          "output_type": "stream",
          "name": "stdout",
          "text": [
            "    Currency    Rate\n",
            "0        USD    1.00\n",
            "1        AED    3.67\n",
            "2        AFN   70.94\n",
            "3        ALL   84.53\n",
            "4        AMD  385.84\n",
            "..       ...     ...\n",
            "158      XPF  102.78\n",
            "159      YER  242.49\n",
            "160      ZAR   17.74\n",
            "161      ZMW   23.34\n",
            "162      ZWL   26.95\n",
            "\n",
            "[163 rows x 2 columns]\n"
          ]
        }
      ]
    },
    {
      "cell_type": "code",
      "source": [
        "df_rates = df_rates.sort_values('Rate')\n",
        "strong_currency = df_rates[df_rates['Rate'] < 1]\n",
        "print(strong_currency)"
      ],
      "metadata": {
        "colab": {
          "base_uri": "https://localhost:8080/"
        },
        "id": "oo1yY8Z9Qyz0",
        "outputId": "d9ba74fb-c9b4-4ee9-a668-dbd105d305a8"
      },
      "execution_count": 20,
      "outputs": [
        {
          "output_type": "stream",
          "name": "stdout",
          "text": [
            "    Currency   Rate\n",
            "78       KWD  0.306\n",
            "15       BHD  0.376\n",
            "107      OMR  0.384\n",
            "70       JOD  0.709\n",
            "156      XDR  0.731\n",
            "49       GGP  0.735\n",
            "47       GBP  0.735\n",
            "51       GIP  0.735\n",
            "68       JEP  0.735\n",
            "45       FKP  0.735\n",
            "126      SHP  0.735\n",
            "63       IMP  0.735\n",
            "28       CHF  0.807\n",
            "79       KYD  0.833\n",
            "43       EUR  0.861\n"
          ]
        }
      ]
    },
    {
      "cell_type": "code",
      "source": [
        "print(df_rates.tail(5))"
      ],
      "metadata": {
        "colab": {
          "base_uri": "https://localhost:8080/"
        },
        "id": "E9JRnv8yTIVc",
        "outputId": "b7865cc9-a02f-4a20-88f8-07608bc673d5"
      },
      "execution_count": 22,
      "outputs": [
        {
          "output_type": "stream",
          "name": "stdout",
          "text": [
            "    Currency      Rate\n",
            "81       LAK  21663.12\n",
            "128      SLL  22466.28\n",
            "150      VND  26097.82\n",
            "66       IRR  42462.19\n",
            "82       LBP  89500.00\n"
          ]
        }
      ]
    },
    {
      "cell_type": "code",
      "source": [
        "df_rates.to_csv('exchange_rates_day14.csv', index=False)\n",
        "strong_currency.to_csv('strong_currencies_day14.csv', index=False)"
      ],
      "metadata": {
        "id": "5VjrR29ESWxU"
      },
      "execution_count": 21,
      "outputs": []
    }
  ]
}