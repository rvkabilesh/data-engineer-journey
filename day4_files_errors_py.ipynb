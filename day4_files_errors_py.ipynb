{
  "nbformat": 4,
  "nbformat_minor": 0,
  "metadata": {
    "colab": {
      "provenance": [],
      "authorship_tag": "ABX9TyMyOcf31ej25zo2zGdFHC7v",
      "include_colab_link": true
    },
    "kernelspec": {
      "name": "python3",
      "display_name": "Python 3"
    },
    "language_info": {
      "name": "python"
    }
  },
  "cells": [
    {
      "cell_type": "markdown",
      "metadata": {
        "id": "view-in-github",
        "colab_type": "text"
      },
      "source": [
        "<a href=\"https://colab.research.google.com/github/rvkabilesh/data-engineer-journey/blob/main/day4_files_errors_py.ipynb\" target=\"_parent\"><img src=\"https://colab.research.google.com/assets/colab-badge.svg\" alt=\"Open In Colab\"/></a>"
      ]
    },
    {
      "cell_type": "markdown",
      "source": [
        "Create a .txt file and write 5 lines using Python.\n",
        "\n",
        "Read that file line by line and print each line with its line number.\n",
        "\n",
        "Try opening a file that doesn’t exist — use try/except to catch the error and print a friendly message.\n",
        "\n",
        "Bonus: Create a simple \"diary\" program that takes user input and appends it to a file every time you run it."
      ],
      "metadata": {
        "id": "A6vBvmDFcAYP"
      }
    },
    {
      "cell_type": "code",
      "execution_count": null,
      "metadata": {
        "id": "45S3DGcoRECO"
      },
      "outputs": [],
      "source": [
        "f=open('content.txt','w')\n",
        "f.write(\"Lorem ipsum dolor sit amet, consectetur adipiscing elit.\\nPellentesque vulputate purus lectus, et pulvinar lectus commodo sed.\\nDonec condimentum sit amet nunc id iaculis.\\nDonec elementum id diam vitae pretium. \\nNulla tempus justo sed velit consectetur accumsan.\")\n",
        "f.close()"
      ]
    },
    {
      "cell_type": "code",
      "source": [
        "f=open('content.txt','r')\n",
        "x=1\n",
        "for i in f:\n",
        "    print(f'Line {x}: {i}')\n",
        "    x+=1\n",
        "f.close()"
      ],
      "metadata": {
        "colab": {
          "base_uri": "https://localhost:8080/"
        },
        "id": "ePBStc_qcAGe",
        "outputId": "ea94bfca-f6c1-4777-929a-39c547b8d46d"
      },
      "execution_count": null,
      "outputs": [
        {
          "output_type": "stream",
          "name": "stdout",
          "text": [
            "Line 1: Lorem ipsum dolor sit amet, consectetur adipiscing elit.\n",
            "\n",
            "Line 2: Pellentesque vulputate purus lectus, et pulvinar lectus commodo sed.\n",
            "\n",
            "Line 3: Donec condimentum sit amet nunc id iaculis.\n",
            "\n",
            "Line 4: Donec elementum id diam vitae pretium. \n",
            "\n",
            "Line 5: Nulla tempus justo sed velit consectetur accumsan.\n"
          ]
        }
      ]
    },
    {
      "cell_type": "code",
      "source": [
        "try:\n",
        "  f=open('NotPresentFile.txt')\n",
        "except:\n",
        "  print('File not found')\n",
        "\n",
        "\n"
      ],
      "metadata": {
        "colab": {
          "base_uri": "https://localhost:8080/"
        },
        "id": "__W1YVJET7-z",
        "outputId": "e457626c-1db4-4d93-a388-f8d108525cf5"
      },
      "execution_count": null,
      "outputs": [
        {
          "output_type": "stream",
          "name": "stdout",
          "text": [
            "File not found\n"
          ]
        }
      ]
    },
    {
      "cell_type": "code",
      "source": [
        "f=open('diary.txt','a')\n",
        "\n",
        "txt = input('Enter your text: ')\n",
        "f.write(txt)\n",
        "f.write('\\n')\n",
        "\n",
        "f.close()"
      ],
      "metadata": {
        "colab": {
          "base_uri": "https://localhost:8080/"
        },
        "id": "y8mr3OyhgUGx",
        "outputId": "525b31d7-6eda-4b8f-9338-ac10f946fd54"
      },
      "execution_count": 76,
      "outputs": [
        {
          "name": "stdout",
          "output_type": "stream",
          "text": [
            "Enter your text: day 4 is complete\n"
          ]
        }
      ]
    }
  ]
}