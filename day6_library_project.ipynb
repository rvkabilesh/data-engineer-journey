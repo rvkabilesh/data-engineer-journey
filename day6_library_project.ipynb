{
  "nbformat": 4,
  "nbformat_minor": 0,
  "metadata": {
    "colab": {
      "provenance": [],
      "authorship_tag": "ABX9TyPSZweFkz5i+x+dFDsQNZpI",
      "include_colab_link": true
    },
    "kernelspec": {
      "name": "python3",
      "display_name": "Python 3"
    },
    "language_info": {
      "name": "python"
    }
  },
  "cells": [
    {
      "cell_type": "markdown",
      "metadata": {
        "id": "view-in-github",
        "colab_type": "text"
      },
      "source": [
        "<a href=\"https://colab.research.google.com/github/rvkabilesh/data-engineer-journey/blob/main/day6_library_project.ipynb\" target=\"_parent\"><img src=\"https://colab.research.google.com/assets/colab-badge.svg\" alt=\"Open In Colab\"/></a>"
      ]
    },
    {
      "cell_type": "markdown",
      "source": [
        "Project: Library Management App (Mini Version)\n",
        "\n",
        "Features:\n",
        "Add a book\n",
        "\n",
        "View all books\n",
        "\n",
        "Search for a book\n",
        "\n",
        "Exit"
      ],
      "metadata": {
        "id": "sHy7xioYWaPN"
      }
    },
    {
      "cell_type": "code",
      "source": [],
      "metadata": {
        "id": "gCs_-KRQliQT"
      },
      "execution_count": null,
      "outputs": []
    },
    {
      "cell_type": "code",
      "execution_count": 23,
      "metadata": {
        "colab": {
          "base_uri": "https://localhost:8080/"
        },
        "id": "HlhPeX_9WA2w",
        "outputId": "cc01e91f-15d4-469b-fc39-9d033c598346"
      },
      "outputs": [
        {
          "output_type": "stream",
          "name": "stdout",
          "text": [
            "Library Menu\n",
            "1. Add Book\n",
            "2. View All Books\n",
            "3. Search Book by Title\n",
            "4. Delete Book\n",
            "5. Exit\n",
            "Enter your choice (1–5): 5\n",
            "Exiting...\n"
          ]
        }
      ],
      "source": [
        "class Book:\n",
        "    def __init__(self, title, author, pages):\n",
        "        self.title = title\n",
        "        self.author = author\n",
        "        self.pages = pages\n",
        "\n",
        "    def summary(self):\n",
        "        return f\"{self.title} by {self.author}, {self.pages} pages\"\n",
        "\n",
        "library = []\n",
        "\n",
        "while True:\n",
        "    print(\"Library Menu\")\n",
        "    print(\"1. Add Book\")\n",
        "    print(\"2. View All Books\")\n",
        "    print(\"3. Search Book by Title\")\n",
        "    print(\"4. Delete Book\")\n",
        "    print(\"5. Exit\")\n",
        "\n",
        "    option = input(\"Enter your choice (1–5): \")\n",
        "\n",
        "    match option:\n",
        "        case \"1\":\n",
        "            f=open(\"book.txt\",\"a\")\n",
        "            title = input(\"Enter book title: \")\n",
        "            author = input(\"Enter author name: \")\n",
        "            try:\n",
        "                pages = int(input(\"Enter number of pages: \"))\n",
        "            except :\n",
        "                print(\"Invalid input. Please enter a valid number of pages.\")\n",
        "            else:\n",
        "                book = Book(title, author, pages)\n",
        "                library.append(book)\n",
        "                f.write(book.summary()+\"\\n\")\n",
        "                f.close()\n",
        "                print(\"Book added successfully!\")\n",
        "\n",
        "        case '2':\n",
        "          if not library:\n",
        "            print(\"No books in the library.\")\n",
        "          else:\n",
        "            print(\"All Books:\")\n",
        "            for book in library:\n",
        "                print(book.summary())\n",
        "\n",
        "        case '3':\n",
        "            title = input(\"Enter book title to search: \")\n",
        "            for book in library:\n",
        "                if title.lower() in book.title.lower():\n",
        "                    print(book.summary())\n",
        "                    break\n",
        "\n",
        "        case '4':\n",
        "            title = input(\"Enter book title to delete: \").strip()\n",
        "            found = False\n",
        "            for book in library:\n",
        "                if book.title.lower() == title.lower():\n",
        "                    library.remove(book)\n",
        "                    print(\"Book deleted successfully!\")\n",
        "                    found = True\n",
        "                    break\n",
        "            if not found:\n",
        "                print(\"Book not found in the library.\")\n",
        "\n",
        "\n",
        "        case '5':\n",
        "            print(\"Exiting...\")\n",
        "            break\n",
        "\n",
        "        case _:\n",
        "            print(\"Invalid choice. Please try again.\")"
      ]
    },
    {
      "cell_type": "code",
      "source": [],
      "metadata": {
        "colab": {
          "base_uri": "https://localhost:8080/"
        },
        "id": "yhwjKEqwc1fN",
        "outputId": "56f79fa5-1484-42ec-c019-c226f362059f"
      },
      "execution_count": 19,
      "outputs": [
        {
          "output_type": "stream",
          "name": "stdout",
          "text": [
            "<__main__.Book object at 0x7ad973b206d0>\n"
          ]
        }
      ]
    }
  ]
}