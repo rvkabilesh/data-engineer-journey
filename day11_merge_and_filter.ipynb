{
  "nbformat": 4,
  "nbformat_minor": 0,
  "metadata": {
    "colab": {
      "provenance": [],
      "authorship_tag": "ABX9TyO0Zz2JpCNWoi6Bt7vsfUYd",
      "include_colab_link": true
    },
    "kernelspec": {
      "name": "python3",
      "display_name": "Python 3"
    },
    "language_info": {
      "name": "python"
    }
  },
  "cells": [
    {
      "cell_type": "markdown",
      "metadata": {
        "id": "view-in-github",
        "colab_type": "text"
      },
      "source": [
        "<a href=\"https://colab.research.google.com/github/rvkabilesh/data-engineer-journey/blob/main/day11_merge_and_filter.ipynb\" target=\"_parent\"><img src=\"https://colab.research.google.com/assets/colab-badge.svg\" alt=\"Open In Colab\"/></a>"
      ]
    },
    {
      "cell_type": "code",
      "execution_count": 20,
      "metadata": {
        "colab": {
          "base_uri": "https://localhost:8080/"
        },
        "id": "U0iL2F5kFiuA",
        "outputId": "7deb1174-1b46-4c94-868c-4399dfaeb342"
      },
      "outputs": [
        {
          "output_type": "stream",
          "name": "stdout",
          "text": [
            "Missing product info:\n",
            "    Saleid  Productid  Quantity  Price Product Category  Revenue\n",
            "3       4        999         3    NaN     NaN      NaN      NaN\n",
            "\n",
            "    Saleid  Productid  Quantity    Price Product     Category   Revenue\n",
            "0       1        101         2  60000.0  Laptop  Electronics  120000.0\n",
            "1       2        102         5    500.0   Mouse  Electronics    2500.0\n",
            "\n",
            "       Category   Revenue\n",
            "0  Electronics  122500.0\n",
            "1    Furniture    2000.0\n"
          ]
        }
      ],
      "source": [
        "import pandas as pd\n",
        "\n",
        "product = pd.read_csv('products.csv')\n",
        "sales = pd.read_csv('sales.csv')\n",
        "\n",
        "df = pd.merge(sales, product, on='ProductID', how='left')\n",
        "df.columns = df.columns.str.title().str.strip()\n",
        "\n",
        "df['Price'] = pd.to_numeric(df['Price'], errors='coerce')\n",
        "\n",
        "df['Revenue'] = df['Quantity']* df['Price']\n",
        "\n",
        "missing_products = df[df['Product'].isna()]\n",
        "print(\"Missing product info:\\n\", missing_products)\n",
        "\n",
        "custom_filter = df[df['Category'] == 'Electronics']\n",
        "print('\\n', custom_filter)\n",
        "\n",
        "category_summary = df.groupby('Category')['Revenue'].sum().reset_index()\n",
        "print('\\n',category_summary)\n",
        "\n",
        "category_summary.to_csv('category-summary_day11.csv')"
      ]
    }
  ]
}