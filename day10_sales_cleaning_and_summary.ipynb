{
  "nbformat": 4,
  "nbformat_minor": 0,
  "metadata": {
    "colab": {
      "provenance": [],
      "authorship_tag": "ABX9TyNqBuKo0a71mGu1iiwZBTGB",
      "include_colab_link": true
    },
    "kernelspec": {
      "name": "python3",
      "display_name": "Python 3"
    },
    "language_info": {
      "name": "python"
    }
  },
  "cells": [
    {
      "cell_type": "markdown",
      "metadata": {
        "id": "view-in-github",
        "colab_type": "text"
      },
      "source": [
        "<a href=\"https://colab.research.google.com/github/rvkabilesh/data-engineer-journey/blob/main/day10_sales_cleaning_and_summary.ipynb\" target=\"_parent\"><img src=\"https://colab.research.google.com/assets/colab-badge.svg\" alt=\"Open In Colab\"/></a>"
      ]
    },
    {
      "cell_type": "code",
      "execution_count": null,
      "metadata": {
        "colab": {
          "base_uri": "https://localhost:8080/"
        },
        "id": "OYCHjJnwjivb",
        "outputId": "91919f2f-e1b3-427b-82c0-46918fe26621"
      },
      "outputs": [
        {
          "output_type": "stream",
          "name": "stdout",
          "text": [
            "         Date   Product   Quantity    Price        City   Customer\n",
            "0  2024-06-01     Laptop          2    60000     Chennai     Alice\n",
            "1  2024-06-01      Mouse          5     ₹500     Chennai       Bob\n",
            "2  2024-06-02   keyboard                 800   Bengaluru   Charlie\n",
            "3  2024-06-03      Mouse          3      500    chennai        Bob\n",
            "4  2024-06-03      mouse          3     ₹500     Chennai       Bob\n",
            "5  2024-06-04                     1      200   Hyderabad       Eve\n",
            "6  2024-06-05     Laptop          1   ₹60000     Chennai     Alice\n",
            "7  2024-06-06   Keyboard          2     ₹800   Bangalore   Charlie\n",
            "8  2024-06-06     Laptop              ₹60000                 Alice\n",
            "9  2024-06-07     Laptop        500    60000     Chennai    Hacker\n"
          ]
        }
      ],
      "source": [
        "import pandas as pd\n",
        "\n",
        "df = pd.read_csv('/content/sales_dirty_day10.csv')\n",
        "\n",
        "print(df)"
      ]
    },
    {
      "cell_type": "code",
      "source": [
        "import pandas as pd\n",
        "\n",
        "df = pd.read_csv('/content/sales_dirty_day10.csv')\n",
        "\n",
        "df.columns = df.columns.str.strip().str.title()\n",
        "df['Date'] = pd.to_datetime(df['Date'], errors='coerce')\n",
        "df['Product'] = df['Product'].astype(str).str.strip().str.capitalize()\n",
        "df = df[df['Product'].str.len() > 0]\n",
        "df['Quantity'] = pd.to_numeric(df['Quantity'].astype(str).str.strip(),errors='coerce').fillna(0).astype('int64')\n",
        "df = df[df['Quantity'] <= 100]\n",
        "df['Price'] = pd.to_numeric(df['Price'].astype(str).str.strip().str.replace('₹',''),errors='coerce').fillna(0).astype('float64')\n",
        "df['City'] = df['City'].astype(str).str.strip().str.capitalize()\n",
        "df = df[df['City'].str.len() > 0]\n",
        "df['Customer'] = df['Customer'].astype(str).str.strip().str.capitalize()\n",
        "df = df.drop_duplicates()\n",
        "df['revenue'] = df['Quantity'] * df['Price']\n",
        "\n",
        "df.to_csv('sales_cleaned_day10.csv', index=False)\n",
        "\n",
        "df1 = df.groupby('Product').agg({'Quantity': 'sum', 'revenue': 'sum'}).reset_index()\n",
        "df1 = df1.sort_values('revenue', ascending=False)\n",
        "df1.to_csv('day10_summary.csv', index=False)\n",
        "\n",
        "print(df1)\n",
        "\n",
        "top_product = df1.iloc[0]\n",
        "print(f\"Top-Selling Product: {top_product['Product']} (Revenue: ₹{top_product['revenue']})\")\n",
        "\n",
        "top_city = df.groupby('City')['revenue'].sum().sort_values(ascending=False).index[0]\n",
        "print(f\"Top City by Revenue: {top_city}\")\n"
      ],
      "metadata": {
        "colab": {
          "base_uri": "https://localhost:8080/"
        },
        "id": "J7u2-ZFNnGYp",
        "outputId": "7bb00dff-3f13-4108-e24a-b54c3321ff68"
      },
      "execution_count": 113,
      "outputs": [
        {
          "output_type": "stream",
          "name": "stdout",
          "text": [
            "    Product  Quantity   revenue\n",
            "1    Laptop         3  180000.0\n",
            "2     Mouse         8    4000.0\n",
            "0  Keyboard         2    1600.0\n",
            "Top-Selling Product: Laptop (Revenue: ₹180000.0)\n",
            "Top City by Revenue: Chennai\n"
          ]
        }
      ]
    },
    {
      "cell_type": "code",
      "source": [],
      "metadata": {
        "id": "7hIYBUT_nbb5"
      },
      "execution_count": null,
      "outputs": []
    }
  ]
}